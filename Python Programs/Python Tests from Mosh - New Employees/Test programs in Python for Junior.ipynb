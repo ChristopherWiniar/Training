{
 "cells": [
  {
   "cell_type": "code",
   "execution_count": null,
   "id": "81b2c6a8-87a1-4b5a-9d1f-fa135d12061c",
   "metadata": {},
   "outputs": [],
   "source": [
    "# Create a game where a player rolls a dice twice and the computer rolls also twice. Whoevers sum is larger, wins. Extra functions?\n",
    "\n",
    "import random\n",
    "\n",
    "while True:\n",
    "    decision = input('Roll the dice twice? (Y/N): ').lower()  # Converts input to lowercase\n",
    "    \n",
    "    if decision == \"y\":\n",
    "        print(\"Let's roll!\")\n",
    "        roll_a = random.randint(1, 6)\n",
    "        roll_b = random.randint(1, 6)\n",
    "        c_roll_a = random.randint(1, 6)\n",
    "        c_roll_b = random.randint(1, 6)\n",
    "        print(f\"You rolled a {roll_a} and a {roll_b}\")\n",
    "        print(f\"I rolled a {c_roll_a} and a {c_roll_b}\")\n",
    "    elif decision == \"n\":\n",
    "        print(\"Ok then. Bye!\")\n",
    "        break\n",
    "    else:\n",
    "        print(\"I don't understand.\")\n",
    "#To save"
   ]
  },
  {
   "cell_type": "code",
   "execution_count": 9,
   "id": "b0664784-2cca-42ae-987f-0ae2d502a068",
   "metadata": {},
   "outputs": [
    {
     "name": "stdin",
     "output_type": "stream",
     "text": [
      "Roll the dice twice? (Y/N):  n\n"
     ]
    },
    {
     "name": "stdout",
     "output_type": "stream",
     "text": [
      "Ok then. Bye!\n"
     ]
    }
   ],
   "source": [
    "while True:\n",
    "    decision = input('Roll the dice twice? (Y/N): ').lower()  # Converts input to lowercase\n",
    "    \n",
    "    if decision == \"y\":\n",
    "        roll_a = random.randint(1, 6)\n",
    "        roll_b = random.randint(1, 6)\n",
    "        c_roll_a = random.randint(1, 6)\n",
    "        c_roll_b = random.randint(1, 6)\n",
    "        print(f\"You rolled a {roll_a} and a {roll_b}\")\n",
    "        print(f\"I rolled a {c_roll_a} and a {c_roll_b}\")\n",
    "        result = roll_a + roll_b - c_roll_a - c_roll_b\n",
    "        if result > 0:\n",
    "            print(\"You win!\")\n",
    "        elif result == 0:\n",
    "            print(\"It's a tie!\")\n",
    "        else:\n",
    "            print(\"I win!\")\n",
    "    elif decision == \"n\":\n",
    "        print(\"Ok then. Bye!\")\n",
    "        break\n",
    "    else:\n",
    "        print(\"I don't understand.\")\n",
    "#To save"
   ]
  },
  {
   "cell_type": "code",
   "execution_count": 15,
   "id": "53be3213-e4a8-43f9-96e1-43a35b82a4e1",
   "metadata": {},
   "outputs": [
    {
     "name": "stdin",
     "output_type": "stream",
     "text": [
      "Roll the dice twice? (Y/N):  y\n"
     ]
    },
    {
     "name": "stdout",
     "output_type": "stream",
     "text": [
      "You rolled a 5 and a 3\n",
      "I rolled a 4 and a 5\n",
      "You rolled 1 times!\n",
      "I win!\n"
     ]
    },
    {
     "name": "stdin",
     "output_type": "stream",
     "text": [
      "Roll the dice twice? (Y/N):  y\n"
     ]
    },
    {
     "name": "stdout",
     "output_type": "stream",
     "text": [
      "You rolled a 1 and a 4\n",
      "I rolled a 2 and a 1\n",
      "You rolled 2 times!\n",
      "You win!\n"
     ]
    },
    {
     "name": "stdin",
     "output_type": "stream",
     "text": [
      "Roll the dice twice? (Y/N):  n\n"
     ]
    },
    {
     "name": "stdout",
     "output_type": "stream",
     "text": [
      "Ok then. Bye!\n"
     ]
    }
   ],
   "source": [
    "while True:\n",
    "    decision = input('Roll the dice twice? (Y/N): ').lower()  # Converts input to lowercase\n",
    "    if decision == \"y\":\n",
    "        roll_a = random.randint(1, 6)\n",
    "        roll_b = random.randint(1, 6)\n",
    "        c_roll_a = random.randint(1, 6)\n",
    "        c_roll_b = random.randint(1, 6)\n",
    "        print(f\"You rolled a {roll_a} and a {roll_b}\")\n",
    "        print(f\"I rolled a {c_roll_a} and a {c_roll_b}\")\n",
    "        result = roll_a + roll_b - c_roll_a - c_roll_b\n",
    "        count = count + 1\n",
    "        print(f\"You rolled {count} times!\")\n",
    "        if result > 0:\n",
    "            print(\"You win!\")\n",
    "        elif result == 0:\n",
    "            print(\"It's a tie!\")\n",
    "        else:\n",
    "            print(\"I win!\")\n",
    "    elif decision == \"n\":\n",
    "        print(\"Ok then. Bye!\")\n",
    "        count = 0\n",
    "        break\n",
    "    else:\n",
    "        print(\"I don't understand.\")\n",
    "#To save"
   ]
  },
  {
   "cell_type": "code",
   "execution_count": 16,
   "id": "2aa9b555-7362-4141-8907-17edaa0042d7",
   "metadata": {},
   "outputs": [],
   "source": [
    "#How to do it in a more optimized way?\n",
    "\n",
    "import random\n",
    "\n",
    "def roll_dice():\n",
    "    return random.randint(1, 6), random.randint(1, 6)\n",
    "\n",
    "def main():\n",
    "    count = 0\n",
    "    while True:\n",
    "        decision = input(\"Roll the dice twice? (Y/N): \").strip().lower()\n",
    "\n",
    "        if decision == \"y\":\n",
    "            user_roll = roll_dice()\n",
    "            comp_roll = roll_dice()\n",
    "\n",
    "            print(f\"You rolled a {user_roll[0]} and a {user_roll[1]}\")\n",
    "            print(f\"I rolled a {comp_roll[0]} and a {comp_roll[1]}\")\n",
    "\n",
    "            user_total = sum(user_roll)\n",
    "            comp_total = sum(comp_roll)\n",
    "            count += 1\n",
    "\n",
    "            print(f\"You rolled {count} time(s)!\")\n",
    "            if user_total > comp_total:\n",
    "                print(\"You win!\")\n",
    "            elif user_total == comp_total:\n",
    "                print(\"It's a tie!\")\n",
    "            else:\n",
    "                print(\"I win!\")\n",
    "\n",
    "        elif decision == \"n\":\n",
    "            print(\"Ok then. Bye!\")\n",
    "            break\n",
    "\n",
    "        else:\n",
    "            print(\"I don't understand.\")\n",
    "\n",
    "if __name__ == \"__main__\":\n",
    "    main()\n",
    "\n",
    "#Let a player choose how many times the user and the computer will roll."
   ]
  },
  {
   "cell_type": "code",
   "execution_count": null,
   "id": "35a0e14a-3064-44de-9093-10a827d7a0b6",
   "metadata": {},
   "outputs": [
    {
     "name": "stdin",
     "output_type": "stream",
     "text": [
      "Do you want to roll the dice? (Y/N):  y\n",
      "How many times do you want to roll the dice?  5\n"
     ]
    },
    {
     "name": "stdout",
     "output_type": "stream",
     "text": [
      "Round 1: You rolled 5, I rolled 5\n",
      "Round 2: You rolled 4, I rolled 1\n",
      "Round 3: You rolled 6, I rolled 4\n",
      "Round 4: You rolled 3, I rolled 4\n",
      "Round 5: You rolled 4, I rolled 6\n",
      "\n",
      "You rolled 5 time/s!\n",
      "Total Score — You: 22 | Me: 20\n",
      "🎉 You win!\n"
     ]
    },
    {
     "name": "stdin",
     "output_type": "stream",
     "text": [
      "Do you want to roll the dice? (Y/N):  y\n",
      "How many times do you want to roll the dice?  3\n"
     ]
    },
    {
     "name": "stdout",
     "output_type": "stream",
     "text": [
      "Round 1: You rolled 3, I rolled 3\n",
      "Round 2: You rolled 1, I rolled 4\n",
      "Round 3: You rolled 2, I rolled 3\n",
      "\n",
      "You rolled 8 time/s!\n",
      "Total Score — You: 6 | Me: 10\n",
      "😈 I win!\n"
     ]
    }
   ],
   "source": [
    "import random\n",
    "\n",
    "def roll_dice():\n",
    "    return random.randint(1, 6)\n",
    "\n",
    "def main():\n",
    "    count = 0\n",
    "    while True:\n",
    "        decision = input(\"Do you want to roll the dice? (Y/N): \").strip().lower()\n",
    "\n",
    "        if decision == \"y\":\n",
    "            try:\n",
    "                rounds = int(input(\"How many times do you want to roll the dice? \").strip())\n",
    "                if rounds <= 0:\n",
    "                    print(\"Please enter a number greater than 0.\")\n",
    "                    continue\n",
    "            except ValueError:\n",
    "                print(\"That's not a valid number.\")\n",
    "                continue\n",
    "\n",
    "            user_total = 0\n",
    "            comp_total = 0\n",
    "\n",
    "            for i in range(1, rounds + 1):\n",
    "                user_roll = roll_dice()\n",
    "                comp_roll = roll_dice()\n",
    "                user_total += user_roll\n",
    "                comp_total += comp_roll\n",
    "\n",
    "                print(f\"Round {i}: You rolled {user_roll}, I rolled {comp_roll}\")\n",
    "            count = count + rounds\n",
    "            print(f\"\\nYou rolled {count} time/s!\")\n",
    "            print(f\"Total Score — You: {user_total} | Me: {comp_total}\")\n",
    "\n",
    "            if user_total > comp_total:\n",
    "                print(\"🎉 You win!\")\n",
    "            elif user_total == comp_total:\n",
    "                print(\"🤝 It's a tie!\")\n",
    "            else:\n",
    "                print(\"😈 I win!\")\n",
    "\n",
    "        elif decision == \"n\":\n",
    "            print(\"Ok then. Bye!\")\n",
    "            break\n",
    "\n",
    "        else:\n",
    "            print(\"I don't understand. Please type Y or N.\")\n",
    "\n",
    "if __name__ == \"__main__\":\n",
    "    main()\n",
    "\n",
    "#Now, what did we do? Python sets a special built-in variable called __name__.\n",
    "#If you're running the file directly, __name__ == \"__main__\" is True.\n",
    "#If you're importing the file into another script, __name__ becomes the file’s name instead."
   ]
  },
  {
   "cell_type": "code",
   "execution_count": null,
   "id": "3b6890d2-a1bb-4cfe-88c5-c2bfe85c892c",
   "metadata": {},
   "outputs": [],
   "source": []
  }
 ],
 "metadata": {
  "kernelspec": {
   "display_name": "Python 3 (ipykernel)",
   "language": "python",
   "name": "python3"
  },
  "language_info": {
   "codemirror_mode": {
    "name": "ipython",
    "version": 3
   },
   "file_extension": ".py",
   "mimetype": "text/x-python",
   "name": "python",
   "nbconvert_exporter": "python",
   "pygments_lexer": "ipython3",
   "version": "3.13.2"
  }
 },
 "nbformat": 4,
 "nbformat_minor": 5
}
