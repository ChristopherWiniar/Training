{
 "cells": [
  {
   "cell_type": "code",
   "execution_count": 1,
   "id": "5000dc42-be45-41f7-a9a3-6ae9a13aa368",
   "metadata": {},
   "outputs": [
    {
     "name": "stdin",
     "output_type": "stream",
     "text": [
      "Rock/Paper/Scissors? (R/P/S):  s\n"
     ]
    },
    {
     "name": "stdout",
     "output_type": "stream",
     "text": [
      "You chose: S, Computer chose: P\n",
      "You win!\n"
     ]
    },
    {
     "name": "stdin",
     "output_type": "stream",
     "text": [
      "Do you want to play again? (Y/N):  y\n",
      "Rock/Paper/Scissors? (R/P/S):  s\n"
     ]
    },
    {
     "name": "stdout",
     "output_type": "stream",
     "text": [
      "You chose: S, Computer chose: P\n",
      "You win!\n"
     ]
    },
    {
     "name": "stdin",
     "output_type": "stream",
     "text": [
      "Do you want to play again? (Y/N):  y\n",
      "Rock/Paper/Scissors? (R/P/S):  s\n"
     ]
    },
    {
     "name": "stdout",
     "output_type": "stream",
     "text": [
      "You chose: S, Computer chose: R\n",
      "You lose!\n"
     ]
    },
    {
     "name": "stdin",
     "output_type": "stream",
     "text": [
      "Do you want to play again? (Y/N):  p\n"
     ]
    },
    {
     "name": "stdout",
     "output_type": "stream",
     "text": [
      "Thanks for playing! C ya!\n"
     ]
    }
   ],
   "source": [
    "#Design Rock Paper Scissors game\n",
    "\n",
    "import random\n",
    "\n",
    "while True:\n",
    "    user_choice = input(\"Rock/Paper/Scissors? (R/P/S): \").lower()\n",
    "    computer_choice = random.choice([\"r\", \"p\", \"s\"])  # Just r/p/s to match input\n",
    "\n",
    "    if user_choice not in [\"r\", \"p\", \"s\"]:\n",
    "        print(\"Invalid input.\")\n",
    "        continue\n",
    "\n",
    "    print(f\"You chose: {user_choice.upper()}, Computer chose: {computer_choice.upper()}\")\n",
    "\n",
    "    if user_choice == computer_choice:\n",
    "        print(\"It's a tie!\")\n",
    "    elif (user_choice == \"r\" and computer_choice == \"s\") or \\\n",
    "         (user_choice == \"p\" and computer_choice == \"r\") or \\\n",
    "         (user_choice == \"s\" and computer_choice == \"p\"):\n",
    "        print(\"You win!\")\n",
    "    else:\n",
    "        print(\"You lose!\")\n",
    "        \n",
    "    again = input(\"Do you want to play again? (Y/N): \").lower()\n",
    "    if again != \"y\":\n",
    "        print(\"Thanks for playing! C ya!\")\n",
    "        break\n",
    "\n",
    "#Can you make modules? How many? Which ones?"
   ]
  },
  {
   "cell_type": "code",
   "execution_count": null,
   "id": "bc325a97-1411-496f-a778-0003ba5c9cd9",
   "metadata": {},
   "outputs": [],
   "source": []
  }
 ],
 "metadata": {
  "kernelspec": {
   "display_name": "Python 3 (ipykernel)",
   "language": "python",
   "name": "python3"
  },
  "language_info": {
   "codemirror_mode": {
    "name": "ipython",
    "version": 3
   },
   "file_extension": ".py",
   "mimetype": "text/x-python",
   "name": "python",
   "nbconvert_exporter": "python",
   "pygments_lexer": "ipython3",
   "version": "3.13.2"
  }
 },
 "nbformat": 4,
 "nbformat_minor": 5
}
