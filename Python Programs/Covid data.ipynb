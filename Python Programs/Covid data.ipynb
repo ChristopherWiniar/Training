{
 "cells": [
  {
   "cell_type": "code",
   "execution_count": 14,
   "id": "2d19eaab-8f49-4571-b541-4f36dad43ffc",
   "metadata": {},
   "outputs": [
    {
     "data": {
      "text/plain": [
       "({'country': 'Poland',\n",
       "  'total_cases': 6661991,\n",
       "  'confirmed': 6661991,\n",
       "  'new_cases': 0,\n",
       "  'deaths': 120598,\n",
       "  'new_deaths': 0,\n",
       "  'recovered': 0,\n",
       "  'active': 0,\n",
       "  'active_cases': 0,\n",
       "  'critical': 0,\n",
       "  'total_tests': 39323709,\n",
       "  'total_tests_per_million': Decimal('0'),\n",
       "  'total_cases_per_million': Decimal('176524'),\n",
       "  'total_deaths_per_million': Decimal('3196'),\n",
       "  'population': Decimal('37739785')},\n",
       " 22123398)"
      ]
     },
     "execution_count": 14,
     "metadata": {},
     "output_type": "execute_result"
    }
   ],
   "source": [
    "from covid import Covid\n",
    "\n",
    "covid_virus = Covid()\n",
    "data = covid_virus.get_data()\n",
    "#data\n",
    "country_data = covid_virus.get_status_by_country_name('Poland')\n",
    "\n",
    "active = covid_virus.get_total_active_cases()\n",
    "country_data, active"
   ]
  }
 ],
 "metadata": {
  "kernelspec": {
   "display_name": "Python 3 (ipykernel)",
   "language": "python",
   "name": "python3"
  },
  "language_info": {
   "codemirror_mode": {
    "name": "ipython",
    "version": 3
   },
   "file_extension": ".py",
   "mimetype": "text/x-python",
   "name": "python",
   "nbconvert_exporter": "python",
   "pygments_lexer": "ipython3",
   "version": "3.13.2"
  }
 },
 "nbformat": 4,
 "nbformat_minor": 5
}
