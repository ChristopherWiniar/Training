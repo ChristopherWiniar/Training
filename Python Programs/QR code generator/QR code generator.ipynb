{
 "cells": [
  {
   "cell_type": "code",
   "execution_count": 14,
   "id": "dc5fc976-8f75-4b2b-b5b8-bfacc5820180",
   "metadata": {},
   "outputs": [],
   "source": [
    "#QR code generator, using QR https://pypi.org/project/qrcode/\n",
    "\n",
    "import qrcode\n",
    "import qrcode.image.svg\n",
    "\n",
    "qr = qrcode.QRCode(\n",
    "    version=1,\n",
    "    error_correction=qrcode.constants.ERROR_CORRECT_L,\n",
    "    box_size=10,\n",
    "    border=4,\n",
    ")\n",
    "\n",
    "qr.add_data('website')\n",
    "qr.make(fit=True)\n",
    "\n",
    "img = qr.make_image(fill_color=\"blue\", back_color=\"yellow\")"
   ]
  },
  {
   "cell_type": "code",
   "execution_count": 15,
   "id": "3f786ff7-fac5-4870-9231-70b3511d27d3",
   "metadata": {},
   "outputs": [],
   "source": [
    "import qrcode\n",
    "from qrcode.image.styledpil import StyledPilImage\n",
    "from qrcode.image.styles.moduledrawers.pil import RoundedModuleDrawer\n",
    "from qrcode.image.styles.colormasks import RadialGradiantColorMask\n",
    "\n",
    "qr = qrcode.QRCode(error_correction=qrcode.constants.ERROR_CORRECT_H)\n",
    "qr.add_data('Some data')\n",
    "\n",
    "img_1 = qr.make_image(image_factory=StyledPilImage, module_drawer=RoundedModuleDrawer())\n",
    "img_2 = qr.make_image(image_factory=StyledPilImage, color_mask=RadialGradiantColorMask())\n",
    "img_3 = qr.make_image(image_factory=StyledPilImage, embeded_image_path=\"D:/Python/Jupyter/image.png\")"
   ]
  },
  {
   "cell_type": "code",
   "execution_count": 26,
   "id": "2e8ddde5-cfba-42b7-92cc-043d2510c61e",
   "metadata": {},
   "outputs": [
    {
     "name": "stdin",
     "output_type": "stream",
     "text": [
      "Enter what shall we QR code:  www.onet.pl\n",
      "Enter the filename (with .png):  Onet.png\n"
     ]
    },
    {
     "name": "stdout",
     "output_type": "stream",
     "text": [
      "QR code saved as Onet.png\n"
     ]
    }
   ],
   "source": [
    "import qrcode\n",
    "\n",
    "# Get user input\n",
    "manual_input = input('Enter what shall we QR code: ').strip()\n",
    "filename = input('Enter the filename (with .png): ').strip()\n",
    "\n",
    "# Create QRCode object\n",
    "qr = qrcode.QRCode(\n",
    "    version=1,\n",
    "    box_size=10,\n",
    "    border=4\n",
    ")\n",
    "\n",
    "# Add data and generate QR\n",
    "qr.add_data(manual_input)\n",
    "qr.make(fit=True)\n",
    "\n",
    "# Create image and save it\n",
    "image = qr.make_image(fill_color=\"blue\", back_color=\"yellow\")\n",
    "image.save(filename)\n",
    "\n",
    "print(f\"QR code saved as {filename}\")"
   ]
  },
  {
   "cell_type": "code",
   "execution_count": null,
   "id": "fd9ba6dd-bbb8-4dc4-becb-1411525a43cd",
   "metadata": {},
   "outputs": [],
   "source": []
  }
 ],
 "metadata": {
  "kernelspec": {
   "display_name": "Python 3 (ipykernel)",
   "language": "python",
   "name": "python3"
  },
  "language_info": {
   "codemirror_mode": {
    "name": "ipython",
    "version": 3
   },
   "file_extension": ".py",
   "mimetype": "text/x-python",
   "name": "python",
   "nbconvert_exporter": "python",
   "pygments_lexer": "ipython3",
   "version": "3.13.2"
  }
 },
 "nbformat": 4,
 "nbformat_minor": 5
}
