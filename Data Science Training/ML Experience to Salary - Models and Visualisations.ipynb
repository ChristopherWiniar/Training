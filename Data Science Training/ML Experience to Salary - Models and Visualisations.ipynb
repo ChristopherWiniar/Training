{
 "cells": [
  {
   "cell_type": "code",
   "execution_count": 10,
   "id": "6978015e-60b4-4863-b302-d1bdc0898dc3",
   "metadata": {},
   "outputs": [
    {
     "name": "stdout",
     "output_type": "stream",
     "text": [
      "[ 9.31295187 13.42718518]\n"
     ]
    }
   ],
   "source": [
    "#Lets use yesterdays example to learn about Saving Models into a file. We wont be taking accuracy into consideration.\n",
    "import pandas as pd\n",
    "import matplotlib.pyplot as plt\n",
    "from sklearn.linear_model import LinearRegression\n",
    "\n",
    "#We don't want to write the following for every existing user because training a model can be time consuming depending on the DB size. \n",
    "df = pd.read_csv('Experience-Salary-clean.csv')\n",
    "X = df[['exp(in months)']]  # Feature\n",
    "y = df['salary(in thousands)']  # Target\n",
    "linear_model = LinearRegression()\n",
    "linear_model.fit(X, y)\n",
    "\n",
    "prediction_input = pd.DataFrame([[5], [10]], columns=['exp(in months)'])\n",
    "predictions = linear_model.predict(prediction_input)\n",
    "\n",
    "print(predictions)\n",
    "\n",
    "# We can save this trained model into a file. It will be shown below:"
   ]
  },
  {
   "cell_type": "code",
   "execution_count": 12,
   "id": "c930a940-512c-4c62-91ea-d954f4e299e4",
   "metadata": {},
   "outputs": [
    {
     "data": {
      "text/plain": [
       "['Salary predictor.joblib']"
      ]
     },
     "execution_count": 12,
     "metadata": {},
     "output_type": "execute_result"
    }
   ],
   "source": [
    "import pandas as pd\n",
    "import matplotlib.pyplot as plt\n",
    "from sklearn.linear_model import LinearRegression\n",
    "import joblib\n",
    "#We add the line above\n",
    "\n",
    "df = pd.read_csv('Experience-Salary-clean.csv')\n",
    "X = df[['exp(in months)']]  # Feature\n",
    "y = df['salary(in thousands)']  # Target\n",
    "linear_model = LinearRegression()\n",
    "linear_model.fit(X, y)\n",
    "\n",
    "#After training a model we write:\n",
    "joblib.dump(linear_model,'Salary predictor.joblib')\n",
    "\n",
    "#prediction_input = pd.DataFrame([[5], [10]], columns=['exp(in months)'])\n",
    "#predictions = linear_model.predict(prediction_input)\n",
    "#print(predictions)\n"
   ]
  },
  {
   "cell_type": "code",
   "execution_count": 14,
   "id": "1e2e8626-8f8c-4845-8216-d88b356e82ef",
   "metadata": {},
   "outputs": [
    {
     "name": "stdout",
     "output_type": "stream",
     "text": [
      "[ 9.31295187 13.42718518]\n"
     ]
    }
   ],
   "source": [
    "#Now lets use it!\n",
    "import pandas as pd\n",
    "import matplotlib.pyplot as plt\n",
    "from sklearn.linear_model import LinearRegression\n",
    "import joblib\n",
    "\n",
    "#Load instead of dump\n",
    "linear_model = joblib.load('Salary predictor.joblib')\n",
    "#Does it still work?\n",
    "prediction_input = pd.DataFrame([[5], [10]], columns=['exp(in months)'])\n",
    "predictions = linear_model.predict(prediction_input)\n",
    "\n",
    "print(predictions)"
   ]
  },
  {
   "cell_type": "code",
   "execution_count": null,
   "id": "fbd2dfcf-ea77-4761-8395-0550c04880cf",
   "metadata": {},
   "outputs": [],
   "source": [
    "#Today you will import any dataset and clean it, choose learning model and do predictions, test sets and visualisations.\n"
   ]
  }
 ],
 "metadata": {
  "kernelspec": {
   "display_name": "Python 3 (ipykernel)",
   "language": "python",
   "name": "python3"
  },
  "language_info": {
   "codemirror_mode": {
    "name": "ipython",
    "version": 3
   },
   "file_extension": ".py",
   "mimetype": "text/x-python",
   "name": "python",
   "nbconvert_exporter": "python",
   "pygments_lexer": "ipython3",
   "version": "3.13.2"
  }
 },
 "nbformat": 4,
 "nbformat_minor": 5
}
